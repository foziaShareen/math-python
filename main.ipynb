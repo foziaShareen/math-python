{
 "cells": [
  {
   "cell_type": "markdown",
   "metadata": {},
   "source": [
    "<h3>. A number of bacteria are placed in a glass. One second later each\n",
    "bacterium divides in two, the next second each of the resulting bacteria divides\n",
    "in two again. After one minute the glass is full. When was the glass half?</h3>"
   ]
  },
  {
   "cell_type": "code",
   "execution_count": null,
   "metadata": {},
   "outputs": [],
   "source": [
    "def time_to_half_full(total_time):\n",
    "    return total_time - 1\n",
    "\n",
    "total_time = 60  # the glass is full after 60 seconds\n",
    "half_full_time = time_to_half_full(total_time)\n",
    "print(f\"The glass was half-full at {half_full_time} seconds.\")\n"
   ]
  }
 ],
 "metadata": {
  "kernelspec": {
   "display_name": "base",
   "language": "python",
   "name": "python3"
  },
  "language_info": {
   "codemirror_mode": {
    "name": "ipython",
    "version": 3
   },
   "file_extension": ".py",
   "mimetype": "text/x-python",
   "name": "python",
   "nbconvert_exporter": "python",
   "pygments_lexer": "ipython3",
   "version": "3.12.4"
  }
 },
 "nbformat": 4,
 "nbformat_minor": 2
}
